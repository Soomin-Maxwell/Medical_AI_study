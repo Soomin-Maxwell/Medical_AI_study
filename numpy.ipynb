{
 "cells": [
  {
   "cell_type": "markdown",
   "metadata": {},
   "source": [
    "### 행렬의 필요성 \n",
    "- 현실 세계의 많은 문제를 행렬을 이용해 해결 가능. \n",
    "    - 배열 / 리스트 형태 또한 행렬의 형태라고 이야기 할 수 있음. \n",
    "    - 인공지능 / 데이터 분석 모두 행렬의 연산이 가능함. \n",
    "    - 예) 컴퓨터의 메모리 구조 / 표 형태의 데이터 / 이미지 ; 행렬로 표현이 가능 / 데이터 시각화 \n",
    "- 행력로 해결할 수 없다면 해결하기 매우 어려운 문제일 수 있음.\n",
    "\n",
    "\n",
    "### Numpy란? \n",
    "-  Numpy 는 다차원 배열을 효과적으로 처리할 수 있도록 도와주는 도구 \n",
    "- 현실 셰게의 다양한 데이터는 배열 형태로 표현이 가능함. \n",
    "- Python 기본 List에 비해 빠르고 강력한 기능을 제공함. \n",
    "\n",
    "### Numpy 차원 \n",
    "- 1차원 축(행) : Vector\n",
    "- 2차원 축(열) : Matrix\n",
    "- 3차원 축(채널) : Axis 2 -> Tensor(3차원 이상)"
   ]
  },
  {
   "cell_type": "code",
   "execution_count": 6,
   "metadata": {},
   "outputs": [
    {
     "name": "stdout",
     "output_type": "stream",
     "text": [
      "[1 2 3]\n",
      "3\n",
      "int64\n",
      "3\n"
     ]
    }
   ],
   "source": [
    "import numpy as np           \n",
    "list_data= [1,2,3]\n",
    "array = np.array(list_data)\n",
    "\n",
    "print(array)\n",
    "print(array.size)\n",
    "print(array.dtype)\n",
    "print(array[2])"
   ]
  },
  {
   "cell_type": "code",
   "execution_count": 14,
   "metadata": {},
   "outputs": [
    {
     "name": "stdout",
     "output_type": "stream",
     "text": [
      "[0 1 2 3]\n",
      "[[0. 0. 0. 0.]\n",
      " [0. 0. 0. 0.]\n",
      " [0. 0. 0. 0.]\n",
      " [0. 0. 0. 0.]]\n"
     ]
    }
   ],
   "source": [
    "# 0부터 3까지 배열 만들기 \n",
    "array1 = np.arange(4)\n",
    "print(array1)\n",
    "\n",
    "array2 = np.zeros((4,4), dtype = float)\n",
    "print(array2)\n",
    "\n",
    "array3 = np.ones((3,3), dtype = float) \n",
    "                 "
   ]
  },
  {
   "cell_type": "code",
   "execution_count": 22,
   "metadata": {},
   "outputs": [
    {
     "name": "stdout",
     "output_type": "stream",
     "text": [
      "[[ 0  1  2  3]\n",
      " [ 5  6  7  8]\n",
      " [ 2  3  4  5]\n",
      " [ 7  8  9 10]]\n"
     ]
    }
   ],
   "source": [
    "array1 = np.arange(0,8).reshape(2,4)\n",
    "array1\n",
    "\n",
    "array2 = np.arange(0,8).reshape(2,4)\n",
    "array2\n",
    "\n",
    "array3 = np.concatenate([array1, array2], axis = 0)\n",
    "array4 = np.arange(0,4).reshape(4,1)\n",
    "print(array3+array4)"
   ]
  },
  {
   "cell_type": "code",
   "execution_count": 31,
   "metadata": {},
   "outputs": [
    {
     "data": {
      "text/plain": [
       "array([[100, 100, 100, 100],\n",
       "       [100, 100, 100, 100],\n",
       "       [100, 100,  10,  11],\n",
       "       [ 12,  13,  14,  15]])"
      ]
     },
     "execution_count": 31,
     "metadata": {},
     "output_type": "execute_result"
    }
   ],
   "source": [
    "array1= np.arange(16).reshape(4,4)\n",
    "array1\n",
    "\n",
    "array2= array1 <10\n",
    "array1[array2] = 100\n",
    "array1"
   ]
  },
  {
   "cell_type": "code",
   "execution_count": 32,
   "metadata": {},
   "outputs": [],
   "source": [
    "array = np.arange(16,).reshape(4,4)"
   ]
  },
  {
   "cell_type": "code",
   "execution_count": 37,
   "metadata": {},
   "outputs": [
    {
     "name": "stdout",
     "output_type": "stream",
     "text": [
      "[0 1 2 3 4 5 6 7 8 9]\n"
     ]
    }
   ],
   "source": [
    "array = np.arange(0,10)\n",
    "np.save('saved.npy',array)\n",
    "result = np.load('saved.npy')\n",
    "print(result)"
   ]
  },
  {
   "cell_type": "code",
   "execution_count": null,
   "metadata": {},
   "outputs": [],
   "source": []
  }
 ],
 "metadata": {
  "kernelspec": {
   "display_name": "Python 3",
   "language": "python",
   "name": "python3"
  },
  "language_info": {
   "codemirror_mode": {
    "name": "ipython",
    "version": 3
   },
   "file_extension": ".py",
   "mimetype": "text/x-python",
   "name": "python",
   "nbconvert_exporter": "python",
   "pygments_lexer": "ipython3",
   "version": "3.7.6"
  }
 },
 "nbformat": 4,
 "nbformat_minor": 4
}
