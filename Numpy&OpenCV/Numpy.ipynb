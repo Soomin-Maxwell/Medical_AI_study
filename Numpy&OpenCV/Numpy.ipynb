{
  "nbformat": 4,
  "nbformat_minor": 0,
  "metadata": {
    "colab": {
      "name": "numpy.ipynb",
      "provenance": [],
      "include_colab_link": true
    },
    "kernelspec": {
      "name": "python3",
      "display_name": "Python 3"
    },
    "language_info": {
      "name": "python"
    }
  },
  "cells": [
    {
      "cell_type": "markdown",
      "metadata": {
        "id": "view-in-github",
        "colab_type": "text"
      },
      "source": [
        "<a href=\"https://colab.research.google.com/github/Soomin-Maxwell/Medical_AI_study/blob/main/numpy.ipynb\" target=\"_parent\"><img src=\"https://colab.research.google.com/assets/colab-badge.svg\" alt=\"Open In Colab\"/></a>"
      ]
    },
    {
      "cell_type": "markdown",
      "metadata": {
        "id": "J0J0UJ9lP-cX"
      },
      "source": [
        "## Numpy \n",
        "\n",
        "- Data could be represented with the form of array. \n",
        "- Dimension\n",
        " - 1 : axis 0 / Vector \n",
        " - 2 : axis 1 / Maxrix \n",
        " - 3 : axis 2 / Channel \n",
        "\n",
        "\n"
      ]
    },
    {
      "cell_type": "code",
      "metadata": {
        "id": "2wgs9aZQP836"
      },
      "source": [
        "import numpy as np"
      ],
      "execution_count": 2,
      "outputs": []
    },
    {
      "cell_type": "code",
      "metadata": {
        "colab": {
          "base_uri": "https://localhost:8080/"
        },
        "id": "vo41HmbRIwHs",
        "outputId": "9e88ad0a-5cd0-42f6-e985-0804782b6352"
      },
      "source": [
        "list_data = [1,2,3]\n",
        "array = np.array(list_data)\n",
        "\n",
        "print(array.size)"
      ],
      "execution_count": 8,
      "outputs": [
        {
          "output_type": "stream",
          "text": [
            "3\n"
          ],
          "name": "stdout"
        }
      ]
    },
    {
      "cell_type": "code",
      "metadata": {
        "id": "huoiEc2sJTAd",
        "outputId": "8a9ece38-d195-4627-fa40-63e1e0e1bc76",
        "colab": {
          "base_uri": "https://localhost:8080/"
        }
      },
      "source": [
        "# arange, dtype\n",
        "\n",
        "array1 = np.arange(4)\n",
        "print(array1)\n",
        "\n",
        "array2 = np.zeros((4,4), dtype = int)\n",
        "print(array2)\n",
        "\n",
        "array3 = np.ones((3,3), dtype = str)\n",
        "print(array3)"
      ],
      "execution_count": 18,
      "outputs": [
        {
          "output_type": "stream",
          "text": [
            "[0 1 2 3]\n",
            "[[0 0 0 0]\n",
            " [0 0 0 0]\n",
            " [0 0 0 0]\n",
            " [0 0 0 0]]\n",
            "[['1' '1' '1']\n",
            " ['1' '1' '1']\n",
            " ['1' '1' '1']]\n"
          ],
          "name": "stdout"
        }
      ]
    },
    {
      "cell_type": "code",
      "metadata": {
        "id": "o3x6P9XRKNK5",
        "outputId": "d2d53be4-fb5a-4ca4-c20a-ffc1a8ffd335",
        "colab": {
          "base_uri": "https://localhost:8080/"
        }
      },
      "source": [
        "# Concatenate\n",
        "array4 = np.random.randint(0,10,(3,3))\n",
        "print(array4)\n",
        "\n",
        "array5 = np.random.normal(0,1,(3,3)) # ?\n",
        "print(array5)"
      ],
      "execution_count": 28,
      "outputs": [
        {
          "output_type": "stream",
          "text": [
            "[[5 8 7]\n",
            " [6 3 0]\n",
            " [2 1 0]]\n",
            "[[ 1.15430009  0.38471756 -0.23522938]\n",
            " [ 0.42203154 -0.39078285 -1.26353971]\n",
            " [ 0.77492158  0.40420109  1.0410753 ]]\n"
          ],
          "name": "stdout"
        }
      ]
    },
    {
      "cell_type": "code",
      "metadata": {
        "id": "rF8ViVrOK7-d",
        "outputId": "67031c06-6bc6-45dc-ea06-7282aac24c29",
        "colab": {
          "base_uri": "https://localhost:8080/"
        }
      },
      "source": [
        "array6 = np.array([1,2,3])\n",
        "array7 = np.array([4,5,6])\n",
        "array8 = np.concatenate([array6,array7])\n",
        "\n",
        "print(array8.shape)"
      ],
      "execution_count": 33,
      "outputs": [
        {
          "output_type": "stream",
          "text": [
            "(6,)\n"
          ],
          "name": "stdout"
        }
      ]
    },
    {
      "cell_type": "code",
      "metadata": {
        "id": "k8TQNAHYLJz-",
        "outputId": "18b19fa3-be0f-4e8f-fe4e-1fd86edf996e",
        "colab": {
          "base_uri": "https://localhost:8080/"
        }
      },
      "source": [
        "# Change shape\n",
        "array9 = np.array([1,2,3,4]).reshape(2,2)\n",
        "print(array9)"
      ],
      "execution_count": 38,
      "outputs": [
        {
          "output_type": "stream",
          "text": [
            "[[1 2]\n",
            " [3 4]]\n"
          ],
          "name": "stdout"
        }
      ]
    },
    {
      "cell_type": "code",
      "metadata": {
        "id": "xiJvd3G1QWbl",
        "outputId": "cf5fd457-5dff-426a-9f2d-eb5d7cdf51ca",
        "colab": {
          "base_uri": "https://localhost:8080/"
        }
      },
      "source": [
        "arrayA = np.arange(8).reshape(2,4)\n",
        "left,right = np.split(arrayA, [2], axis=1)\n",
        "\n",
        "print(left.shape)\n",
        "print(right.shape)\n",
        "print(arrayA)\n",
        "print(left)\n",
        "print(right)"
      ],
      "execution_count": 46,
      "outputs": [
        {
          "output_type": "stream",
          "text": [
            "(2, 2)\n",
            "(2, 2)\n",
            "[[0 1 2 3]\n",
            " [4 5 6 7]]\n",
            "[[0 1]\n",
            " [4 5]]\n",
            "[[2 3]\n",
            " [6 7]]\n"
          ],
          "name": "stdout"
        }
      ]
    },
    {
      "cell_type": "code",
      "metadata": {
        "id": "6YKf9nUCWtY_",
        "outputId": "2191be7e-475c-4e44-9fc1-4e005e3805e3",
        "colab": {
          "base_uri": "https://localhost:8080/"
        }
      },
      "source": [
        "# Calculation / Broadcasting \n",
        "arrayB = np.random.randint(1,10, size=4).reshape(2,2)\n",
        "arrayC = np.arange(2).reshape(2,1)\n",
        "print(arrayB)\n",
        "print(arrayC)\n",
        "print(arrayB + arrayC)"
      ],
      "execution_count": 58,
      "outputs": [
        {
          "output_type": "stream",
          "text": [
            "[[8 2]\n",
            " [4 6]]\n",
            "[[0]\n",
            " [1]]\n",
            "[[8 2]\n",
            " [5 7]]\n"
          ],
          "name": "stdout"
        }
      ]
    },
    {
      "cell_type": "code",
      "metadata": {
        "id": "tcXEhQt-YgUX",
        "outputId": "b8b1483e-71a4-4137-cecc-cd19e487f822",
        "colab": {
          "base_uri": "https://localhost:8080/"
        }
      },
      "source": [
        "# Masking \n",
        "arrayD = arrayB > 5\n",
        "print(arrayD)\n",
        "print('-' * 30)\n",
        "arrayB[arrayD] = 100\n",
        "print(arrayB)\n",
        "print('-' * 30)\n",
        "print(arrayB[arrayD])"
      ],
      "execution_count": 74,
      "outputs": [
        {
          "output_type": "stream",
          "text": [
            "[[ True False]\n",
            " [False  True]]\n",
            "------------------------------\n",
            "[[100   2]\n",
            " [  4 100]]\n",
            "------------------------------\n",
            "[100 100]\n"
          ],
          "name": "stdout"
        }
      ]
    },
    {
      "cell_type": "code",
      "metadata": {
        "id": "gXfjscp9bABh",
        "outputId": "f9afec58-7392-4ad4-80e8-cd23d87e3a6a",
        "colab": {
          "base_uri": "https://localhost:8080/"
        }
      },
      "source": [
        " # Sum\n",
        " arrayE = np.arange(16).reshape(4,4)\n",
        " print(arrayE)\n",
        " print('SUM:', np.sum(arrayE, axis = 0))"
      ],
      "execution_count": 81,
      "outputs": [
        {
          "output_type": "stream",
          "text": [
            "[[ 0  1  2  3]\n",
            " [ 4  5  6  7]\n",
            " [ 8  9 10 11]\n",
            " [12 13 14 15]]\n",
            "SUM: [24 28 32 36]\n"
          ],
          "name": "stdout"
        }
      ]
    },
    {
      "cell_type": "code",
      "metadata": {
        "id": "Nw32Lp9Oc_zY",
        "outputId": "26bc1cf8-06e3-4b72-df88-1b1488db41b5",
        "colab": {
          "base_uri": "https://localhost:8080/"
        }
      },
      "source": [
        "# Save and Laod files \n",
        "array = np.arange(0,10)\n",
        "np.save(\"saved.npy\", array)\n",
        "result = np.load(\"saved.npy\")\n",
        "print(result)"
      ],
      "execution_count": 86,
      "outputs": [
        {
          "output_type": "stream",
          "text": [
            "[0 1 2 3 4 5 6 7 8 9]\n"
          ],
          "name": "stdout"
        }
      ]
    },
    {
      "cell_type": "code",
      "metadata": {
        "id": "J6ugJgWXjHi0",
        "outputId": "b8a02427-4413-4ede-bdd3-e28d05094282",
        "colab": {
          "base_uri": "https://localhost:8080/"
        }
      },
      "source": [
        "arrayF = np.arange(0,10)\n",
        "arrayG = np.arange(10,20)\n",
        "np.savez(\"saved.npz\", array1= arrayF, array2=arrayG)\n",
        "\n",
        "data = np.load('saved.npz')\n",
        "result1 = data['array1']\n",
        "result2 = data['array2']\n",
        "\n",
        "print(result1)\n",
        "print(result2)"
      ],
      "execution_count": 92,
      "outputs": [
        {
          "output_type": "stream",
          "text": [
            "[0 1 2 3 4 5 6 7 8 9]\n",
            "[10 11 12 13 14 15 16 17 18 19]\n"
          ],
          "name": "stdout"
        }
      ]
    },
    {
      "cell_type": "code",
      "metadata": {
        "id": "kNdsHBi7jqul",
        "outputId": "d05cbc00-7176-4f4b-bca4-3f32140d99f9",
        "colab": {
          "base_uri": "https://localhost:8080/"
        }
      },
      "source": [
        "array = np.array([4,9,3,2,6,10])\n",
        "array.sort()\n",
        "print(array[::-1])\n",
        "\n",
        "arrayH = np.array([[3,5,9,19,2,4],[2,7,3,8,1,2]])\n",
        "print(arrayH)\n",
        "arrayI = np.sort(arrayH)\n",
        "print(arrayI)"
      ],
      "execution_count": 133,
      "outputs": [
        {
          "output_type": "stream",
          "text": [
            "[10  9  6  4  3  2]\n",
            "[[ 3  5  9 19  2  4]\n",
            " [ 2  7  3  8  1  2]]\n",
            "[[ 2  3  4  5  9 19]\n",
            " [ 1  2  2  3  7  8]]\n"
          ],
          "name": "stdout"
        }
      ]
    },
    {
      "cell_type": "code",
      "metadata": {
        "id": "nbo-LyPxlGRI",
        "outputId": "ad915b90-8a0a-4900-ce8e-12acad280f2c",
        "colab": {
          "base_uri": "https://localhost:8080/"
        }
      },
      "source": [
        "arrayJ = np.linspace(0,10,5)\n",
        "arrayJ"
      ],
      "execution_count": 108,
      "outputs": [
        {
          "output_type": "execute_result",
          "data": {
            "text/plain": [
              "array([ 0. ,  2.5,  5. ,  7.5, 10. ])"
            ]
          },
          "metadata": {
            "tags": []
          },
          "execution_count": 108
        }
      ]
    },
    {
      "cell_type": "code",
      "metadata": {
        "id": "Ch5FOQFnmiMi",
        "outputId": "f6aa4dfb-2814-4eea-9239-7ebe5db55ade",
        "colab": {
          "base_uri": "https://localhost:8080/"
        }
      },
      "source": [
        "np.random.seed(7)\n",
        "print(np.random.randint(0,10,(2,3)))"
      ],
      "execution_count": 123,
      "outputs": [
        {
          "output_type": "stream",
          "text": [
            "[[4 9 6]\n",
            " [3 3 7]]\n"
          ],
          "name": "stdout"
        }
      ]
    },
    {
      "cell_type": "code",
      "metadata": {
        "id": "Igc1ET6im65V",
        "outputId": "e9a0a549-7fa0-45a9-9779-f7fe2d1291a9",
        "colab": {
          "base_uri": "https://localhost:8080/"
        }
      },
      "source": [
        "arrayK = np.arange(0,10)\n",
        "arrayL = arrayK\n",
        "array[0] = 99\n",
        "print(array)"
      ],
      "execution_count": 124,
      "outputs": [
        {
          "output_type": "stream",
          "text": [
            "[99.   2.5  5.   7.5 10. ]\n"
          ],
          "name": "stdout"
        }
      ]
    },
    {
      "cell_type": "code",
      "metadata": {
        "id": "eHz2Qn2-nGez",
        "outputId": "21775d95-3555-4066-cb47-feb4de5b5de3",
        "colab": {
          "base_uri": "https://localhost:8080/"
        }
      },
      "source": [
        "#Remove duplicated\n",
        "arrayM = np.array([1,1,2,2,2,3,3,4])\n",
        "print(np.unique(arrayM))"
      ],
      "execution_count": 129,
      "outputs": [
        {
          "output_type": "stream",
          "text": [
            "[1 2 3 4]\n"
          ],
          "name": "stdout"
        }
      ]
    },
    {
      "cell_type": "code",
      "metadata": {
        "id": "LWPuRfTrnokM"
      },
      "source": [
        ""
      ],
      "execution_count": null,
      "outputs": []
    }
  ]
}